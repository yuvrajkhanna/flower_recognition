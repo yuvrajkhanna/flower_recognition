{
 "cells": [
  {
   "cell_type": "code",
   "execution_count": 1,
   "metadata": {},
   "outputs": [
    {
     "name": "stderr",
     "output_type": "stream",
     "text": [
      "Using TensorFlow backend.\n"
     ]
    }
   ],
   "source": [
    "import pandas as pd\n",
    "import numpy as np\n",
    "import matplotlib.pyplot as plt\n",
    "import os\n",
    "import seaborn\n",
    "import cv2\n",
    "import random\n",
    "\n",
    "from sklearn.preprocessing import LabelEncoder\n",
    "from sklearn.model_selection import train_test_split\n",
    "from sklearn.metrics import confusion_matrix\n",
    "\n",
    "import tensorflow as tf\n",
    "from keras.utils.np_utils import to_categorical\n",
    "from keras.optimizers import RMSprop\n",
    "from keras.models import Sequential\n",
    "from keras.layers import Conv2D,MaxPool2D,Flatten,Dense,Dropout\n",
    "from keras.callbacks import ReduceLROnPlateau\n",
    "from keras.preprocessing.image import ImageDataGenerator"
   ]
  },
  {
   "cell_type": "code",
   "execution_count": 2,
   "metadata": {},
   "outputs": [
    {
     "name": "stdout",
     "output_type": "stream",
     "text": [
      "/home/yuvraj/Desktop/work/DL/flower_rec\n"
     ]
    }
   ],
   "source": [
    "print(os.getcwd()) "
   ]
  },
  {
   "cell_type": "code",
   "execution_count": 3,
   "metadata": {},
   "outputs": [
    {
     "name": "stdout",
     "output_type": "stream",
     "text": [
      "['sunflower', 'tulip', 'daisy', 'rose', 'dandelion']\n"
     ]
    }
   ],
   "source": [
    "data='/home/yuvraj/Desktop/work/DL/flower_rec/flowers/'\n",
    "folders=os.listdir(data)\n",
    "print(folders)"
   ]
  },
  {
   "cell_type": "code",
   "execution_count": 4,
   "metadata": {},
   "outputs": [],
   "source": [
    "size=64,64"
   ]
  },
  {
   "cell_type": "code",
   "execution_count": 5,
   "metadata": {},
   "outputs": [],
   "source": [
    "image_train=[]\n",
    "image_labels=[]\n",
    "image_names=[]\n",
    "\n",
    "for folder in folders:\n",
    "    for each in os.listdir(os.path.join(data,folder)):\n",
    "        if each.endswith('jpg'):\n",
    "            image_names.append(os.path.join(data,folder,each))\n",
    "            image_labels.append(folder)\n",
    "            img=cv2.imread(os.path.join(data,folder,each))\n",
    "            img_in=cv2.resize(img,size)\n",
    "            image_train.append(img_in)\n",
    "        else:\n",
    "            continue\n",
    "\n",
    "            "
   ]
  },
  {
   "cell_type": "code",
   "execution_count": 6,
   "metadata": {},
   "outputs": [],
   "source": [
    "union_list=list(zip(image_train,image_labels))\n",
    "random.shuffle(union_list)\n",
    "train,labels=zip(*union_list)\n",
    "X=np.array(train)\n",
    "Y=np.array(labels)\n"
   ]
  },
  {
   "cell_type": "code",
   "execution_count": 7,
   "metadata": {},
   "outputs": [
    {
     "name": "stdout",
     "output_type": "stream",
     "text": [
      "['dandelion' 'daisy' 'tulip' ... 'tulip' 'rose' 'tulip']\n"
     ]
    }
   ],
   "source": [
    "print(Y)"
   ]
  },
  {
   "cell_type": "code",
   "execution_count": 8,
   "metadata": {},
   "outputs": [],
   "source": [
    "X=X/255.0"
   ]
  },
  {
   "cell_type": "code",
   "execution_count": 9,
   "metadata": {},
   "outputs": [
    {
     "data": {
      "text/plain": [
       "(4323, 64, 64, 3)"
      ]
     },
     "execution_count": 9,
     "metadata": {},
     "output_type": "execute_result"
    }
   ],
   "source": [
    "np.shape(X)"
   ]
  },
  {
   "cell_type": "code",
   "execution_count": 10,
   "metadata": {
    "scrolled": true
   },
   "outputs": [],
   "source": [
    "le=LabelEncoder()\n",
    "Y=le.fit_transform(Y)\n",
    "Y=to_categorical(Y,num_classes=5)"
   ]
  },
  {
   "cell_type": "code",
   "execution_count": 11,
   "metadata": {},
   "outputs": [],
   "source": [
    "X_train,X_val,Y_train,Y_val=train_test_split(X,Y,test_size=0.1)"
   ]
  },
  {
   "cell_type": "code",
   "execution_count": 12,
   "metadata": {},
   "outputs": [],
   "source": [
    "\n",
    "model = Sequential()\n",
    "\n",
    "model.add(Conv2D(filters = 8, kernel_size = (5,5),padding = 'Same', \n",
    "                 activation ='relu', input_shape = (64,64,3)))\n",
    "model.add(Conv2D(filters = 8, kernel_size = (5,5),padding = 'Same', \n",
    "                 activation ='relu'))\n",
    "model.add(MaxPool2D(pool_size=(2,2)))\n",
    "model.add(Dropout(0.25))\n",
    "\n",
    "\n",
    "model.add(Conv2D(filters = 16, kernel_size = (3,3),padding = 'Same', \n",
    "                 activation ='relu'))\n",
    "model.add(Conv2D(filters = 16, kernel_size = (3,3),padding = 'Same', \n",
    "                 activation ='relu'))\n",
    "model.add(MaxPool2D(pool_size=(2,2)))\n",
    "model.add(Dropout(0.25))\n",
    "\n",
    "model.add(Flatten())\n",
    "model.add(Dense(256, activation = \"relu\"))\n",
    "model.add(Dropout(0.5))\n",
    "model.add(Dense(5, activation = \"softmax\"))"
   ]
  },
  {
   "cell_type": "code",
   "execution_count": 13,
   "metadata": {},
   "outputs": [],
   "source": [
    "optimizer=RMSprop(lr=0.001,rho=0.9,epsilon=1e-08,decay=0.0)"
   ]
  },
  {
   "cell_type": "code",
   "execution_count": 14,
   "metadata": {},
   "outputs": [],
   "source": [
    "model.compile(optimizer,loss='categorical_crossentropy',metrics=['accuracy'])"
   ]
  },
  {
   "cell_type": "code",
   "execution_count": 15,
   "metadata": {},
   "outputs": [],
   "source": [
    "learning_rate_reduction=ReduceLROnPlateau(monitor='val_acc',patience=3,verbose=1,factor=0.5,minlr=0.00001)"
   ]
  },
  {
   "cell_type": "code",
   "execution_count": 16,
   "metadata": {},
   "outputs": [],
   "source": [
    "datagen = ImageDataGenerator(\n",
    "        featurewise_center=False,  \n",
    "        samplewise_center=False,  \n",
    "        featurewise_std_normalization=False,  \n",
    "        samplewise_std_normalization=False,  \n",
    "        zca_whitening=False,\n",
    "        rotation_range=10,  \n",
    "        zoom_range = 0.1, \n",
    "        width_shift_range=0.1,\n",
    "        height_shift_range=0.1,  \n",
    "        horizontal_flip=False,\n",
    "        vertical_flip=False) \n",
    "\n",
    "datagen.fit(X_train)"
   ]
  },
  {
   "cell_type": "code",
   "execution_count": 19,
   "metadata": {},
   "outputs": [
    {
     "name": "stdout",
     "output_type": "stream",
     "text": [
      "Epoch 1/20\n",
      "389/389 [==============================] - 35s 91ms/step - loss: 0.7954 - acc: 0.7013 - val_loss: 0.8793 - val_acc: 0.6674\n",
      "Epoch 2/20\n",
      "389/389 [==============================] - 36s 93ms/step - loss: 0.7695 - acc: 0.7146 - val_loss: 1.0641 - val_acc: 0.6282\n",
      "Epoch 3/20\n",
      "389/389 [==============================] - 36s 93ms/step - loss: 0.7406 - acc: 0.7217 - val_loss: 0.8813 - val_acc: 0.6882\n",
      "Epoch 4/20\n",
      "389/389 [==============================] - 36s 92ms/step - loss: 0.7234 - acc: 0.7288 - val_loss: 0.8607 - val_acc: 0.6975\n",
      "Epoch 5/20\n",
      "389/389 [==============================] - 36s 94ms/step - loss: 0.7096 - acc: 0.7356 - val_loss: 0.9134 - val_acc: 0.6697\n",
      "Epoch 6/20\n",
      "389/389 [==============================] - 38s 98ms/step - loss: 0.7002 - acc: 0.7395 - val_loss: 0.9126 - val_acc: 0.6882\n",
      "Epoch 7/20\n",
      "389/389 [==============================] - 38s 98ms/step - loss: 0.6880 - acc: 0.7440 - val_loss: 0.8706 - val_acc: 0.6813\n",
      "\n",
      "Epoch 00007: ReduceLROnPlateau reducing learning rate to 0.0002500000118743628.\n",
      "Epoch 8/20\n",
      "389/389 [==============================] - 37s 94ms/step - loss: 0.6459 - acc: 0.7581 - val_loss: 0.8996 - val_acc: 0.6928\n",
      "Epoch 9/20\n",
      "389/389 [==============================] - 36s 93ms/step - loss: 0.6373 - acc: 0.7641 - val_loss: 0.8629 - val_acc: 0.6952\n",
      "Epoch 10/20\n",
      "389/389 [==============================] - 37s 94ms/step - loss: 0.6258 - acc: 0.7665 - val_loss: 0.9257 - val_acc: 0.6813\n",
      "\n",
      "Epoch 00010: ReduceLROnPlateau reducing learning rate to 0.0001250000059371814.\n",
      "Epoch 11/20\n",
      "389/389 [==============================] - 36s 94ms/step - loss: 0.6116 - acc: 0.7729 - val_loss: 0.8780 - val_acc: 0.6975\n",
      "Epoch 12/20\n",
      "389/389 [==============================] - 39s 99ms/step - loss: 0.6078 - acc: 0.7751 - val_loss: 0.8843 - val_acc: 0.7136\n",
      "Epoch 13/20\n",
      "389/389 [==============================] - 40s 102ms/step - loss: 0.6104 - acc: 0.7751 - val_loss: 0.8791 - val_acc: 0.7136\n",
      "Epoch 14/20\n",
      "389/389 [==============================] - 38s 97ms/step - loss: 0.5993 - acc: 0.7792 - val_loss: 0.8658 - val_acc: 0.7113\n",
      "Epoch 15/20\n",
      "389/389 [==============================] - 38s 98ms/step - loss: 0.5895 - acc: 0.7813 - val_loss: 0.8564 - val_acc: 0.7067\n",
      "\n",
      "Epoch 00015: ReduceLROnPlateau reducing learning rate to 6.25000029685907e-05.\n",
      "Epoch 16/20\n",
      "389/389 [==============================] - 38s 97ms/step - loss: 0.5805 - acc: 0.7831 - val_loss: 0.8901 - val_acc: 0.7159\n",
      "Epoch 17/20\n",
      "389/389 [==============================] - 37s 95ms/step - loss: 0.5825 - acc: 0.7875 - val_loss: 0.8900 - val_acc: 0.6975\n",
      "Epoch 18/20\n",
      "389/389 [==============================] - 39s 100ms/step - loss: 0.5760 - acc: 0.7875 - val_loss: 0.8923 - val_acc: 0.7136\n",
      "Epoch 19/20\n",
      "389/389 [==============================] - 38s 98ms/step - loss: 0.5764 - acc: 0.7816 - val_loss: 0.8995 - val_acc: 0.7044\n",
      "\n",
      "Epoch 00019: ReduceLROnPlateau reducing learning rate to 3.125000148429535e-05.\n",
      "Epoch 20/20\n",
      "389/389 [==============================] - 38s 97ms/step - loss: 0.5750 - acc: 0.7870 - val_loss: 0.8962 - val_acc: 0.7113\n"
     ]
    }
   ],
   "source": [
    "history=model.fit_generator(datagen.flow(X_train,Y_train,batch_size=50),epochs=20,validation_data=(X_val,Y_val),\n",
    "                          verbose=1,steps_per_epoch=X_train.shape[0]//10, callbacks=[learning_rate_reduction])"
   ]
  },
  {
   "cell_type": "markdown",
   "metadata": {},
   "source": [
    "model.fit(X_train,Y_train, epochs=5)"
   ]
  },
  {
   "cell_type": "code",
   "execution_count": null,
   "metadata": {},
   "outputs": [],
   "source": []
  }
 ],
 "metadata": {
  "kernelspec": {
   "display_name": "tf",
   "language": "python",
   "name": "tf"
  },
  "language_info": {
   "codemirror_mode": {
    "name": "ipython",
    "version": 3
   },
   "file_extension": ".py",
   "mimetype": "text/x-python",
   "name": "python",
   "nbconvert_exporter": "python",
   "pygments_lexer": "ipython3",
   "version": "3.6.6"
  }
 },
 "nbformat": 4,
 "nbformat_minor": 2
}
